{
 "cells": [
  {
   "cell_type": "markdown",
   "id": "a5282d44-1369-438b-99b1-be547633c0b2",
   "metadata": {},
   "source": [
    "# Test script"
   ]
  },
  {
   "cell_type": "markdown",
   "id": "0e52da51-2140-4a4c-b8ae-2dfdf12ad983",
   "metadata": {},
   "source": [
    "Here we go again..."
   ]
  },
  {
   "cell_type": "code",
   "execution_count": null,
   "id": "bba5153c-2337-43b8-9121-498e94b0e57b",
   "metadata": {},
   "outputs": [],
   "source": []
  }
 ],
 "metadata": {
  "kernelspec": {
   "display_name": "Python 3 (ipykernel)",
   "language": "python",
   "name": "python3"
  },
  "language_info": {
   "codemirror_mode": {
    "name": "ipython",
    "version": 3
   },
   "file_extension": ".py",
   "mimetype": "text/x-python",
   "name": "python",
   "nbconvert_exporter": "python",
   "pygments_lexer": "ipython3",
   "version": "3.11.7"
  }
 },
 "nbformat": 4,
 "nbformat_minor": 5
}
